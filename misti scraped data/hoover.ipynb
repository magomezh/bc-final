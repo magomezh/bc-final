{
 "cells": [
  {
   "cell_type": "code",
   "execution_count": 1,
   "metadata": {},
   "outputs": [],
   "source": [
    "from splinter import Browser\n",
    "from bs4 import BeautifulSoup\n",
    "import pandas as pd\n",
    "import time\n",
    "executable_path = {'executable_path': '/Users/misti/chromedriver.exe'}\n",
    "browser = Browser('chrome', **executable_path)\n",
    "new_url='https://www.trustpilot.com/review/www.hoover.co.uk'\n",
    "browser.visit(new_url)\n",
    "\n",
    "ratings = []\n",
    "customer_review=[]\n",
    "\n",
    "\n",
    "for i in range(50):\n",
    "    html = browser.html \n",
    "    soup = BeautifulSoup(html, 'html.parser')\n",
    "    reviews = soup.find_all('div', class_='review-card')\n",
    "\n",
    "    for r in reviews:\n",
    "        rating = r.find('div',class_='star-rating star-rating--medium').img['alt']\n",
    "        ratings.append(rating)\n",
    "        review = r.find('p',class_='review-content__text')\n",
    "        customer_review.append(review)\n",
    "        \n",
    "    browser.links.find_by_partial_text('Next page').click()"
   ]
  },
  {
   "cell_type": "code",
   "execution_count": 2,
   "metadata": {},
   "outputs": [],
   "source": [
    "hoover_reviews = pd.DataFrame({\"Rating\":ratings, \"Review\":customer_review})\n",
    "hoover_reviews.to_csv('hoover.csv')"
   ]
  },
  {
   "cell_type": "code",
   "execution_count": null,
   "metadata": {},
   "outputs": [],
   "source": []
  }
 ],
 "metadata": {
  "kernelspec": {
   "display_name": "Python 3",
   "language": "python",
   "name": "python3"
  },
  "language_info": {
   "codemirror_mode": {
    "name": "ipython",
    "version": 3
   },
   "file_extension": ".py",
   "mimetype": "text/x-python",
   "name": "python",
   "nbconvert_exporter": "python",
   "pygments_lexer": "ipython3",
   "version": "3.7.4"
  }
 },
 "nbformat": 4,
 "nbformat_minor": 4
}
