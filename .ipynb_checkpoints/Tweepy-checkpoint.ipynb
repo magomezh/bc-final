{
 "cells": [
  {
   "cell_type": "code",
   "execution_count": null,
   "metadata": {},
   "outputs": [],
   "source": [
    "import tweepy\n",
    "import time\n",
    "import os\n",
    "# from textblob import TextBlob\n",
    "# consumer_key = ''\n",
    "# consumer_secret = ''\n",
    "# access_token = ''\n",
    "# access_token_secret = ''\n",
    "# auth = tweepy.OAuthHandler(consumer_key,consumer_secret)\n",
    "# auth.set_access_token(access_token, access_token_secret)\n",
    "# api = tweepy.API(auth)\n",
    "# public_tweets = api.search('chair')\n",
    "# for tweet in public_tweets:\n",
    "#         print(tweet.text)\n",
    "#         analysis = TextBlob(tweet.text)\n",
    "#         print(analysis.sentiment)\n",
    "\n",
    "# Authenticate to Twitter\n",
    "auth = tweepy.OAuthHandler(\"qD4fVgQwYBIKXoRXLYw0wp1cq\", \n",
    "    \"5gSkicVE0K8eiUSRFuKVqZXFNWaS4lIpAy7xXwrD4yHjKld7i4\")\n",
    "auth.set_access_token(\"1256612855635476484-dD2le9cw3cYxoRwyzey5i1TiOD7EFT\", \n",
    "    \"j1k4bDswUzvw6Xr0uxbwUvzzrGB3shahXUGKkrXejhawX\")\n",
    "\n",
    "api = tweepy.API(auth)\n",
    "\n",
    "try:\n",
    "    api.verify_credentials()\n",
    "    print(\"Authentication OK\")\n",
    "except:\n",
    "    print(\"Error during authentication\")\n",
    "    \n",
    "public_tweets = api.search('Beyond Meat')\n",
    "for tweet in public_tweets:\n",
    "        print(tweet.text)\n",
    "        analysis = TextBlob(tweet.text)\n",
    "        print(analysis.sentiment)\n",
    "# for tweet in c.items():\n",
    "#     data['text'] = tweet.text   \n",
    "#     wfile.write(data['text']+'\\n')  \n",
    "#     i += 1\n",
    "#     time.sleep(5)"
   ]
  }
 ],
 "metadata": {
  "kernelspec": {
   "display_name": "Python 3",
   "language": "python",
   "name": "python3"
  },
  "language_info": {
   "codemirror_mode": {
    "name": "ipython",
    "version": 3
   },
   "file_extension": ".py",
   "mimetype": "text/x-python",
   "name": "python",
   "nbconvert_exporter": "python",
   "pygments_lexer": "ipython3",
   "version": "3.7.7"
  }
 },
 "nbformat": 4,
 "nbformat_minor": 4
}
